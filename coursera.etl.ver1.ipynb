{
    "cells": [
        {
            "cell_type": "markdown",
            "metadata": {},
            "source": "# ETL notebook"
        },
        {
            "cell_type": "markdown",
            "metadata": {},
            "source": "Install libraries"
        },
        {
            "cell_type": "code",
            "execution_count": null,
            "metadata": {},
            "outputs": [],
            "source": "# Importing standard libraries\nimport numpy as np # linear algebra\nimport pandas as pd # data processing, CSV file I/O (e.g. pd.read_csv)\nimport pickle\n\nfrom botocore.client import Config\nimport ibm_boto3"
        },
        {
            "cell_type": "markdown",
            "metadata": {},
            "source": "Define credentials to access a IBM cloud bucket storage"
        },
        {
            "cell_type": "code",
            "execution_count": null,
            "metadata": {},
            "outputs": [],
            "source": "# The code was removed by Watson Studio for sharing."
        },
        {
            "cell_type": "markdown",
            "metadata": {},
            "source": "We define a function to read rgb data from a pickle file provided by the customer"
        },
        {
            "cell_type": "code",
            "execution_count": 3,
            "metadata": {},
            "outputs": [],
            "source": "# Defining function for loading dataset from 'pickle' file\ndef load_rgb_data(file):\n    # Opening 'pickle' file and getting images\n    with open(file, 'rb') as f:\n        d = pickle.load(f, encoding='latin1')  # dictionary type, we use 'latin1' for python3\n        # At the same time method 'astype()' used for converting ndarray from int to float\n        # It is needed to divide float by float when applying Normalization\n        x = d['features'].astype(np.float32)   # 4D numpy.ndarray type, for train = (34799, 32, 32, 3)\n        y = d['labels']                        # 1D numpy.ndarray type, for train = (34799,)\n        s = d['sizes']                         # 2D numpy.ndarray type, for train = (34799, 2)\n        c = d['coords']                        # 2D numpy.ndarray type, for train = (34799, 4)\n        \"\"\"\n        Data is a dictionary with four keys:\n            'features' - is a 4D array with raw pixel data of the traffic sign images,\n                         (number of examples, width, height, channels).\n            'labels'   - is a 1D array containing the label id of the traffic sign image,\n                         file label_names.csv contains id -> name mappings.\n            'sizes'    - is a 2D array containing arrays (width, height),\n                         representing the original width and height of the image.\n            'coords'   - is a 2D array containing arrays (x1, y1, x2, y2),\n                         representing coordinates of a bounding frame around the image.\n        \"\"\"\n\n    # Returning ready data\n    return x, y, s, c"
        },
        {
            "cell_type": "markdown",
            "metadata": {},
            "source": "The customer has provided 3 separate sets for training, validation and testing. We load into a dictionary of numpy arrays."
        },
        {
            "cell_type": "code",
            "execution_count": 4,
            "metadata": {},
            "outputs": [],
            "source": "cos.download_file(Bucket=credentials['BUCKET'], Key='train.pickle', Filename='train.pickle')   \ncos.download_file(Bucket=credentials['BUCKET'], Key='valid.pickle', Filename='valid.pickle')\ncos.download_file(Bucket=credentials['BUCKET'], Key='test.pickle', Filename='test.pickle')\ncos.download_file(Bucket=credentials['BUCKET'], Key='label_names.csv', Filename='label_names.csv')\n\n# Loading rgb data from training dataset\nx_train, y_train, s_train, c_train = load_rgb_data('train.pickle')\n#\n# # Loading rgb data from validation dataset\nx_validation, y_validation, s_validation, c_validation = load_rgb_data('valid.pickle')\n#\n# # Loading rgb data from test dataset\nx_test, y_test, s_test, c_test = load_rgb_data('test.pickle')"
        },
        {
            "cell_type": "markdown",
            "metadata": {},
            "source": "The customer has provided a separate csv file with the description of every class (traffic sign description). We define a function to obtain the description of each class"
        },
        {
            "cell_type": "code",
            "execution_count": 5,
            "metadata": {},
            "outputs": [],
            "source": "# # Getting texts for every class\nlabels = pd.read_csv('label_names.csv', delimiter=',')"
        },
        {
            "cell_type": "markdown",
            "metadata": {},
            "source": "We define a different set of functions for data augmentation"
        },
        {
            "cell_type": "code",
            "execution_count": 6,
            "metadata": {},
            "outputs": [],
            "source": "# # Putting loaded data into the dictionary\n# # Equalization is done only for training dataset\nd_loaded = {'x_train': x_train, 'y_train': y_train,\n            'x_validation': x_validation, 'y_validation': y_validation,\n            'x_test': x_test, 'y_test': y_test,\n            'labels': labels}"
        },
        {
            "cell_type": "markdown",
            "metadata": {},
            "source": "We save all the data together in a dictionary"
        },
        {
            "cell_type": "code",
            "execution_count": 8,
            "metadata": {},
            "outputs": [],
            "source": "# Saving loaded and preprocessed data into 'pickle' file\nwith open('raw_data.pickle', 'wb') as f:\n    pickle.dump(d_loaded, f)\n    # Releasing memory\ndel d_loaded\n\n#upload feather object\ncos.upload_file(Filename='raw_data.pickle', Bucket=credentials['BUCKET'], Key='raw_data.pickle') "
        },
        {
            "cell_type": "code",
            "execution_count": null,
            "metadata": {},
            "outputs": [],
            "source": ""
        }
    ],
    "metadata": {
        "kernelspec": {
            "display_name": "Python 3.6",
            "language": "python",
            "name": "python3"
        },
        "language_info": {
            "codemirror_mode": {
                "name": "ipython",
                "version": 3
            },
            "file_extension": ".py",
            "mimetype": "text/x-python",
            "name": "python",
            "nbconvert_exporter": "python",
            "pygments_lexer": "ipython3",
            "version": "3.6.8"
        }
    },
    "nbformat": 4,
    "nbformat_minor": 1
}